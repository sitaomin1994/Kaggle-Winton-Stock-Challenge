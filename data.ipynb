{
 "cells": [
  {
   "cell_type": "code",
   "execution_count": 1,
   "metadata": {
    "collapsed": true
   },
   "outputs": [],
   "source": [
    "import numpy as np\n",
    "import pandas as pd\n",
    "%matplotlib inline\n",
    "import matplotlib.pyplot as plt\n",
    "train = pd.read_csv('train.csv')\n",
    "test = pd.read_csv('test_2.csv')\n",
    "result=pd.read_csv('sample_submission_2.csv')"
   ]
  },
  {
   "cell_type": "code",
   "execution_count": 2,
   "metadata": {},
   "outputs": [
    {
     "name": "stdout",
     "output_type": "stream",
     "text": [
      "(40000, 211)\n",
      "(120000, 147)\n",
      "(7440000, 2)\n"
     ]
    }
   ],
   "source": [
    "print (train.shape)\n",
    "print (test.shape)\n",
    "print (result.shape)"
   ]
  },
  {
   "cell_type": "code",
   "execution_count": 3,
   "metadata": {
    "collapsed": true
   },
   "outputs": [],
   "source": [
    "#fill NA\n",
    "trainmed=train.fillna(train.median())\n",
    "train0=train.fillna(0)\n",
    "testmed=test.fillna(test.median())\n",
    "test0=test.fillna(0)"
   ]
  },
  {
   "cell_type": "code",
   "execution_count": 99,
   "metadata": {},
   "outputs": [],
   "source": [
    "#add features in trainmed\n",
    "#calculate delta\n",
    "delta=abs(trainmed.iloc[:,146]-trainmed.iloc[:,28])/119\n",
    "delta=pd.DataFrame(delta,columns={'delta'})"
   ]
  },
  {
   "cell_type": "code",
   "execution_count": 77,
   "metadata": {},
   "outputs": [
    {
     "name": "stdout",
     "output_type": "stream",
     "text": [
      "(119L, 40001L)\n"
     ]
    }
   ],
   "source": [
    "#abstract Ret0 to Ret120\n",
    "trtrain=np.zeros((119, 40001))\n",
    "trtrain[:,0]=range(2,121)\n",
    "trtrain[:,1:]=np.transpose(trainmed.iloc[:,28:147])\n",
    "print trtrain.shape"
   ]
  },
  {
   "cell_type": "code",
   "execution_count": 94,
   "metadata": {},
   "outputs": [],
   "source": [
    "#calculate drawdown duration and drawdown magnitude\n",
    "drawdu=np.zeros(40000)\n",
    "drawma=np.zeros(40000)\n",
    "for i in range(1,40001):\n",
    "    drawma[i-1]=max(trtrain[:,i])-min(trtrain[:,i])\n",
    "    for j in range(0,119):\n",
    "        if trtrain[j,i]==max(trtrain[:,i]):\n",
    "            a=j\n",
    "    for k in range(0,119):\n",
    "        if trtrain[k,i]==min(trtrain[:,i]):\n",
    "            b=k\n",
    "    drawdu[i-1]=abs(trtrain[a,0]-trtrain[b,0])\n",
    "        "
   ]
  },
  {
   "cell_type": "code",
   "execution_count": 98,
   "metadata": {},
   "outputs": [],
   "source": [
    "#combine\n",
    "drawdu=pd.DataFrame(drawdu,columns={'drawdown duration'})\n",
    "drawma=pd.DataFrame(drawma,columns={'drawdown magnitude'})\n",
    "newtrainmed = pd.concat([delta,drawdu,drawma,trainmed], axis=1)"
   ]
  },
  {
   "cell_type": "code",
   "execution_count": 104,
   "metadata": {},
   "outputs": [
    {
     "data": {
      "text/plain": [
       "(40000, 214)"
      ]
     },
     "execution_count": 104,
     "metadata": {},
     "output_type": "execute_result"
    }
   ],
   "source": [
    "newtrainmed.shape"
   ]
  },
  {
   "cell_type": "code",
   "execution_count": null,
   "metadata": {
    "collapsed": true
   },
   "outputs": [],
   "source": [
    "#add features in train0"
   ]
  },
  {
   "cell_type": "code",
   "execution_count": 105,
   "metadata": {},
   "outputs": [
    {
     "name": "stdout",
     "output_type": "stream",
     "text": [
      "(119L, 40001L)\n"
     ]
    }
   ],
   "source": [
    "delta0=abs(train0.iloc[:,146]-train0.iloc[:,28])/119\n",
    "delta0=pd.DataFrame(delta0,columns={'delta'})\n",
    "trtrain0=np.zeros((119, 40001))\n",
    "trtrain0[:,0]=range(2,121)\n",
    "trtrain0[:,1:]=np.transpose(train0.iloc[:,28:147])\n",
    "print trtrain0.shape"
   ]
  },
  {
   "cell_type": "code",
   "execution_count": 107,
   "metadata": {
    "collapsed": true
   },
   "outputs": [],
   "source": [
    "#calculate drawdown duration and drawdown magnitude\n",
    "drawdu0=np.zeros(40000)\n",
    "drawma0=np.zeros(40000)\n",
    "for i in range(1,40001):\n",
    "    drawma0[i-1]=max(trtrain0[:,i])-min(trtrain0[:,i])\n",
    "    for j in range(0,119):\n",
    "        if trtrain0[j,i]==max(trtrain0[:,i]):\n",
    "            a=j\n",
    "        if trtrain0[j,i]==min(trtrain0[:,i]):\n",
    "            b=j\n",
    "    drawdu0[i-1]=abs(trtrain0[a,0]-trtrain0[b,0])"
   ]
  },
  {
   "cell_type": "code",
   "execution_count": 112,
   "metadata": {},
   "outputs": [
    {
     "data": {
      "text/plain": [
       "(40000, 214)"
      ]
     },
     "execution_count": 112,
     "metadata": {},
     "output_type": "execute_result"
    }
   ],
   "source": [
    "drawdu0=pd.DataFrame(drawdu0,columns={'drawdown duration'})\n",
    "drawma0=pd.DataFrame(drawma0,columns={'drawdown magnitude'})\n",
    "newtrain0 = pd.concat([delta0,drawdu0,drawma0,train0], axis=1)\n",
    "newtrain0.shape"
   ]
  },
  {
   "cell_type": "code",
   "execution_count": 113,
   "metadata": {
    "collapsed": true
   },
   "outputs": [],
   "source": [
    "newtrain0.to_csv('newtrain0.csv')\n",
    "newtrainmed.to_csv('newtrainmed.csv')"
   ]
  },
  {
   "cell_type": "code",
   "execution_count": null,
   "metadata": {
    "collapsed": true
   },
   "outputs": [],
   "source": [
    "#test"
   ]
  },
  {
   "cell_type": "code",
   "execution_count": 120,
   "metadata": {},
   "outputs": [
    {
     "data": {
      "text/plain": [
       "120000"
      ]
     },
     "execution_count": 120,
     "metadata": {},
     "output_type": "execute_result"
    }
   ],
   "source": [
    "len(test0.index)"
   ]
  },
  {
   "cell_type": "code",
   "execution_count": 123,
   "metadata": {
    "collapsed": true
   },
   "outputs": [],
   "source": [
    "def change(data):\n",
    "    delta1=abs(data.iloc[:,146]-data.iloc[:,28])/119\n",
    "    delta1=pd.DataFrame(delta1,columns={'delta'})\n",
    "    trtest=np.zeros((119, len(data.index)+1))\n",
    "    trtest[:,0]=range(2,121)\n",
    "    trtest[:,1:]=np.transpose(data.iloc[:,28:147])\n",
    "    drawdowndu=np.zeros(len(data.index))\n",
    "    drawmag=np.zeros(len(data.index))\n",
    "    a=0\n",
    "    b=0\n",
    "    for i in range(1,len(data.index)+1):\n",
    "        drawmag[i-1]=max(trtest[:,i])-min(trtest[:,i])\n",
    "        for j in range(0,119):\n",
    "            if trtest[j,i]==max(trtest[:,i]):\n",
    "                a=j\n",
    "            if trtest[j,i]==min(trtest[:,i]):\n",
    "                b=j\n",
    "        drawdowndu[i-1]=abs(trtest[a,0]-trtest[b,0])\n",
    "    drawdowndu=pd.DataFrame(drawdowndu,columns={'drawdown duration'})\n",
    "    drawmag=pd.DataFrame(drawmag,columns={'drawdown magnitude'})\n",
    "    newdata = pd.concat([delta1,drawdowndu,drawmag,data], axis=1)\n",
    "    return newdata"
   ]
  },
  {
   "cell_type": "code",
   "execution_count": 124,
   "metadata": {},
   "outputs": [],
   "source": [
    "newtest0=change(test0)"
   ]
  },
  {
   "cell_type": "code",
   "execution_count": 126,
   "metadata": {},
   "outputs": [
    {
     "data": {
      "text/plain": [
       "(120000, 150)"
      ]
     },
     "execution_count": 126,
     "metadata": {},
     "output_type": "execute_result"
    }
   ],
   "source": [
    "newtestmed=change(testmed)\n",
    "newtestmed.shape"
   ]
  },
  {
   "cell_type": "code",
   "execution_count": 127,
   "metadata": {
    "collapsed": true
   },
   "outputs": [],
   "source": [
    "newtest0.to_csv('newtest0.csv')\n",
    "newtestmed.to_csv('newtestmed.csv')"
   ]
  },
  {
   "cell_type": "code",
   "execution_count": null,
   "metadata": {
    "collapsed": true
   },
   "outputs": [],
   "source": [
    "#rescale"
   ]
  },
  {
   "cell_type": "code",
   "execution_count": 168,
   "metadata": {
    "collapsed": true
   },
   "outputs": [],
   "source": [
    "def rescalemed(data):\n",
    "    from scipy.stats import skew\n",
    "    del data['Id']\n",
    "    skewed = data.iloc[:,0:28].apply(lambda x: skew(x.dropna().astype(float)))\n",
    "    skewed = skewed[skewed > 0.75]\n",
    "    skewed = skewed.index\n",
    "    data[skewed] = np.log1p(data[skewed])\n",
    "    data=data.fillna(data.median())\n",
    "    # Additional processing: scale the data. \n",
    "    from sklearn.preprocessing import StandardScaler\n",
    "    scaler = StandardScaler()\n",
    "    scaler.fit(data.iloc[:,0:28])\n",
    "    scaled = scaler.transform(data.iloc[:,0:28])\n",
    "    datascaled=data\n",
    "    datascaled.iloc[:,0:28]=scaled\n",
    "    return datascaled\n"
   ]
  },
  {
   "cell_type": "code",
   "execution_count": 172,
   "metadata": {
    "collapsed": true
   },
   "outputs": [],
   "source": [
    "def rescale0(data):\n",
    "    from scipy.stats import skew\n",
    "    del data['Id']\n",
    "    skewed = data.iloc[:,0:28].apply(lambda x: skew(x.dropna().astype(float)))\n",
    "    skewed = skewed[skewed > 0.75]\n",
    "    skewed = skewed.index\n",
    "    data[skewed] = np.log1p(data[skewed])\n",
    "    data=data.fillna(0)\n",
    "    # Additional processing: scale the data. \n",
    "    from sklearn.preprocessing import StandardScaler\n",
    "    scaler = StandardScaler()\n",
    "    scaler.fit(data.iloc[:,0:28])\n",
    "    scaled = scaler.transform(data.iloc[:,0:28])\n",
    "    datascaled=data\n",
    "    datascaled.iloc[:,0:28]=scaled\n",
    "    return datascaled"
   ]
  },
  {
   "cell_type": "code",
   "execution_count": 169,
   "metadata": {},
   "outputs": [
    {
     "name": "stderr",
     "output_type": "stream",
     "text": [
      "C:\\Users\\Seven\\Anaconda3\\envs\\py27\\lib\\site-packages\\ipykernel_launcher.py:7: RuntimeWarning: invalid value encountered in log1p\n",
      "  import sys\n"
     ]
    }
   ],
   "source": [
    "strainmed=rescalemed(newtrainmed)"
   ]
  },
  {
   "cell_type": "code",
   "execution_count": 173,
   "metadata": {},
   "outputs": [
    {
     "name": "stderr",
     "output_type": "stream",
     "text": [
      "C:\\Users\\Seven\\Anaconda3\\envs\\py27\\lib\\site-packages\\ipykernel_launcher.py:7: RuntimeWarning: invalid value encountered in log1p\n",
      "  import sys\n"
     ]
    }
   ],
   "source": [
    "stestmed=rescalemed(newtestmed)"
   ]
  },
  {
   "cell_type": "code",
   "execution_count": 174,
   "metadata": {},
   "outputs": [
    {
     "data": {
      "text/plain": [
       "(120000, 149)"
      ]
     },
     "execution_count": 174,
     "metadata": {},
     "output_type": "execute_result"
    }
   ],
   "source": [
    "stestmed.shape"
   ]
  },
  {
   "cell_type": "code",
   "execution_count": 175,
   "metadata": {},
   "outputs": [
    {
     "name": "stderr",
     "output_type": "stream",
     "text": [
      "C:\\Users\\Seven\\Anaconda3\\envs\\py27\\lib\\site-packages\\ipykernel_launcher.py:7: RuntimeWarning: invalid value encountered in log1p\n",
      "  import sys\n"
     ]
    }
   ],
   "source": [
    "strain0=rescale0(newtrain0)\n",
    "stest0=rescale0(newtest0)"
   ]
  },
  {
   "cell_type": "code",
   "execution_count": 176,
   "metadata": {},
   "outputs": [
    {
     "data": {
      "text/plain": [
       "(40000, 213)"
      ]
     },
     "execution_count": 176,
     "metadata": {},
     "output_type": "execute_result"
    }
   ],
   "source": [
    "strain0.shape"
   ]
  },
  {
   "cell_type": "code",
   "execution_count": 180,
   "metadata": {
    "collapsed": true
   },
   "outputs": [],
   "source": [
    "strain0.to_csv('strain0.csv')\n",
    "strainmed.to_csv('strainmed.csv')\n",
    "stest0.to_csv('stest0.csv')\n",
    "stestmed.to_csv('stestmed.csv')"
   ]
  },
  {
   "cell_type": "code",
   "execution_count": 179,
   "metadata": {},
   "outputs": [
    {
     "name": "stdout",
     "output_type": "stream",
     "text": [
      "(40000, 213)\n",
      "(120000, 149)\n"
     ]
    }
   ],
   "source": [
    "print (strainmed.shape)\n",
    "print (stestmed.shape)"
   ]
  },
  {
   "cell_type": "code",
   "execution_count": null,
   "metadata": {
    "collapsed": true
   },
   "outputs": [],
   "source": []
  }
 ],
 "metadata": {
  "kernelspec": {
   "display_name": "Python 2",
   "language": "python",
   "name": "python2"
  },
  "language_info": {
   "codemirror_mode": {
    "name": "ipython",
    "version": 2
   },
   "file_extension": ".py",
   "mimetype": "text/x-python",
   "name": "python",
   "nbconvert_exporter": "python",
   "pygments_lexer": "ipython2",
   "version": "2.7.13"
  }
 },
 "nbformat": 4,
 "nbformat_minor": 2
}
