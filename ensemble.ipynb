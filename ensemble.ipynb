{
 "cells": [
  {
   "cell_type": "code",
   "execution_count": 16,
   "metadata": {},
   "outputs": [
    {
     "name": "stdout",
     "output_type": "stream",
     "text": [
      "(40000, 213)\n",
      "(120000, 149)\n"
     ]
    }
   ],
   "source": [
    "import numpy as np\n",
    "import pandas as pd\n",
    "%matplotlib inline\n",
    "import matplotlib.pyplot as plt\n",
    "train = pd.read_csv('strain0.csv')\n",
    "test = pd.read_csv('stest0.csv')\n",
    "result=pd.read_csv('sample_submission_2.csv')\n",
    "del train['Unnamed: 0']\n",
    "del test['Unnamed: 0']\n",
    "print (train.shape)\n",
    "print (test.shape)"
   ]
  },
  {
   "cell_type": "code",
   "execution_count": null,
   "metadata": {
    "collapsed": true
   },
   "outputs": [],
   "source": [
    "# ensemble\n",
    "#\n",
    "algorithms = [logistic_regression, decision_tree_classification, ...] #for classification\n",
    "algorithms = [linear_regression, decision_tree_regressor, ...] #for regression\n",
    "\n",
    "predictions = matrix(row_length=len(target), column_length=len(algorithms))\n",
    "\n",
    "for i,algorithm in enumerate(algorithms):\n",
    "    predictions[,i] = algorithm.fit(train, target).predict(test)"
   ]
  },
  {
   "cell_type": "code",
   "execution_count": null,
   "metadata": {
    "collapsed": true
   },
   "outputs": [],
   "source": [
    "#Weighted Averaging\n",
    "#\n",
    "weights = [..., ..., ...] #length is equal to len(algorithms)\n",
    "final_predictions = []\n",
    "for row_number in len(predictions):\n",
    "    final_predictions.append(\n",
    "        mean(prediction[row_number, ]*weights)\n",
    "    )"
   ]
  },
  {
   "cell_type": "code",
   "execution_count": null,
   "metadata": {
    "collapsed": true
   },
   "outputs": [],
   "source": [
    "# stacking procedure\n",
    "#\n",
    "base_algorithms = [logistic_regression, decision_tree_classification, ...] #for classification\n",
    "\n",
    "stacking_train_dataset = matrix(row_length=len(target), column_length=len(algorithms))\n",
    "stacking_test_dataset = matrix(row_length=len(test), column_length=len(algorithms))\n",
    "\n",
    "\n",
    "for i,base_algorithm in enumerate(base_algorithms):\n",
    "    stacking_train_dataset[,i] = base_algorithm.fit(train, target).predict(train)\n",
    "    stacking_test_dataset[,i] = base_algorithm.predict(test)\n",
    "\n",
    "final_predictions = combiner_algorithm.fit(stacking_train_dataset, target).predict(stacking_test_dataset)"
   ]
  },
  {
   "cell_type": "code",
   "execution_count": null,
   "metadata": {
    "collapsed": true
   },
   "outputs": [],
   "source": [
    "#split\n",
    "#\n",
    "base_algorithms = [logistic_regression, decision_tree_classification, ...] #for classification\n",
    "\n",
    "stacking_train_dataset = matrix(row_length=len(target), column_length=len(algorithms))\n",
    "stacking_test_dataset = matrix(row_length=len(test), column_length=len(algorithms))\n",
    "\n",
    "for i,base_algorithm in enumerate(base_algorithms):\n",
    "    for trainix, testix in split(train, k=10): #you may use sklearn.cross_validation.KFold of sklearn library\n",
    "        stacking_train_dataset[testcv,i] = base_algorithm.fit(train[trainix], target[trainix]).predict(train[testix])\n",
    "stacking_test_dataset[,i] = base_algorithm.fit(train).predict(test)\n",
    "\n",
    "\n",
    "final_predictions = combiner_algorithm.fit(stacking_train_dataset, target).predict(stacking_test_dataset)"
   ]
  },
  {
   "cell_type": "code",
   "execution_count": null,
   "metadata": {
    "collapsed": true
   },
   "outputs": [],
   "source": [
    "#bootstrap sampling\n",
    "#\n",
    "def bootstrap_sample(original_dataset, m):\n",
    "    sub_dataset = []\n",
    "    for i in range(m):\n",
    "        sub_dataset.append(\n",
    "            random_one_element(original_dataset)\n",
    "        )\n",
    "    return sub_dataset\n",
    "\n",
    "def bagging(n, m, base_algorithm, train_dataset, target, test_dataset):\n",
    "    predictions = matrix(row_length=len(target), column_length=n)\n",
    "    for i in range(n):\n",
    "        sub_dataset = bootstrap_sample(train_dataset, m)\n",
    "        predictions[,i] = base_algorithm.fit(original_dataset, target).predict(test_dataset)\n",
    "\n",
    "    final_predictions = voting(predictions) # for classification\n",
    "    final_predictions = averaging(predictions) # for regression\n",
    "\n",
    "    return final_predictions"
   ]
  },
  {
   "cell_type": "code",
   "execution_count": null,
   "metadata": {
    "collapsed": true
   },
   "outputs": [],
   "source": [
    "#Boosting: Converting Weak Models to Strong Ones\n",
    "#\n",
    "def adjust_dataset(_train, errors):\n",
    "    #create a new dataset by using the hardest instances\n",
    "    ix = get_highest_errors_index(train)\n",
    "    return concat(_train[ix], random_select(train))\n",
    "\n",
    "models = []\n",
    "_train = random_select(train)\n",
    "for i in range(n): #n rounds\n",
    "    model = base_algorithm.fit(_train)\n",
    "    predictions = model.predict(_train)\n",
    "    models.append(model)\n",
    "    errors = calculate_error(predictions)\n",
    "    _train = adjust_dataset(_train, errors)\n",
    "\n",
    "final_predictions = combine(models, test)"
   ]
  },
  {
   "cell_type": "code",
   "execution_count": null,
   "metadata": {
    "collapsed": true
   },
   "outputs": [],
   "source": []
  },
  {
   "cell_type": "code",
   "execution_count": null,
   "metadata": {
    "collapsed": true
   },
   "outputs": [],
   "source": [
    "#another example\n",
    "from sklearn.datasets import load_boston\n",
    "from sklearn.cross_validation import train_test_split\n",
    "from sklearn.metrics import mean_absolute_error\n",
    "from sklearn.ensemble import ExtraTreesRegressor\n",
    "from sklearn.ensemble import RandomForestRegressor\n",
    "from xgboost import XGBRegressor\n",
    "from vecstack import stacking\n",
    "\n",
    "# Load demo data\n",
    "boston = load_boston()\n",
    "X, y = boston.data, boston.target\n",
    "\n",
    "# Make train/test split\n",
    "# As usual in machine learning task we have X_train, y_train, and X_test\n",
    "X_train, X_test, y_train, y_test = train_test_split(X, y, \n",
    "    test_size = 0.2, random_state = 0)\n",
    "\n",
    "# Caution! All models and parameter values are just \n",
    "# demonstrational and shouldn't be considered as recommended.\n",
    "# Initialize 1-st level models.\n",
    "models = [\n",
    "    ExtraTreesRegressor(random_state = 0, n_jobs = -1, \n",
    "        n_estimators = 100, max_depth = 3),\n",
    "        \n",
    "    RandomForestRegressor(random_state = 0, n_jobs = -1, \n",
    "        n_estimators = 100, max_depth = 3),\n",
    "        \n",
    "    XGBRegressor(seed = 0, nthread = -1, learning_rate = 0.1, \n",
    "        n_estimators = 100, max_depth = 3)]\n",
    "    \n",
    "# Compute stacking features\n",
    "S_train, S_test = stacking(models, X_train, y_train, X_test, \n",
    "    regression = True, metric = mean_absolute_error, n_folds = 4, \n",
    "    shuffle = True, random_state = 0, verbose = 2)\n",
    "\n",
    "# Initialize 2-nd level model\n",
    "model = XGBRegressor(seed = 0, nthread = -1, learning_rate = 0.1, \n",
    "    n_estimators = 100, max_depth = 3)\n",
    "    \n",
    "# Fit 2-nd level model\n",
    "model = model.fit(S_train, y_train)\n",
    "\n",
    "# Predict\n",
    "y_pred = model.predict(S_test)\n",
    "\n",
    "# Final prediction score\n",
    "print('Final prediction score: [%.8f]' % mean_absolute_error(y_test, y_pred))"
   ]
  }
 ],
 "metadata": {
  "kernelspec": {
   "display_name": "Python 2",
   "language": "python",
   "name": "python2"
  },
  "language_info": {
   "codemirror_mode": {
    "name": "ipython",
    "version": 2
   },
   "file_extension": ".py",
   "mimetype": "text/x-python",
   "name": "python",
   "nbconvert_exporter": "python",
   "pygments_lexer": "ipython2",
   "version": "2.7.13"
  }
 },
 "nbformat": 4,
 "nbformat_minor": 2
}
